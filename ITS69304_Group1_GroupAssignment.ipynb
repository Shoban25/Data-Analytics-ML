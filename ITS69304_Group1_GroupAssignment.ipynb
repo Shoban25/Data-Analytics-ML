{
  "nbformat": 4,
  "nbformat_minor": 0,
  "metadata": {
    "colab": {
      "provenance": [],
      "toc_visible": true,
      "authorship_tag": "ABX9TyPzOG1u3QSbBFCJ1Bt+n6YK",
      "include_colab_link": true
    },
    "kernelspec": {
      "name": "python3",
      "display_name": "Python 3"
    },
    "language_info": {
      "name": "python"
    }
  },
  "cells": [
    {
      "cell_type": "markdown",
      "metadata": {
        "id": "view-in-github",
        "colab_type": "text"
      },
      "source": [
        "<a href=\"https://colab.research.google.com/github/syahmishamz/Data-Analytics-ML/blob/main/ITS69304_Group1_GroupAssignment.ipynb\" target=\"_parent\"><img src=\"https://colab.research.google.com/assets/colab-badge.svg\" alt=\"Open In Colab\"/></a>"
      ]
    },
    {
      "cell_type": "code",
      "execution_count": null,
      "metadata": {
        "id": "xC3p-PKxmzc0"
      },
      "outputs": [],
      "source": []
    },
    {
      "cell_type": "markdown",
      "source": [
        "#Question 1"
      ],
      "metadata": {
        "id": "CFh-K7IWqJg5"
      }
    },
    {
      "cell_type": "markdown",
      "source": [
        "##a)"
      ],
      "metadata": {
        "id": "sLBP_5QwqP8H"
      }
    },
    {
      "cell_type": "code",
      "source": [],
      "metadata": {
        "id": "BVK9bmxGqMUM"
      },
      "execution_count": null,
      "outputs": []
    },
    {
      "cell_type": "markdown",
      "source": [
        "##b)"
      ],
      "metadata": {
        "id": "K9d7rv1aqSTD"
      }
    },
    {
      "cell_type": "code",
      "source": [],
      "metadata": {
        "id": "FPP6J4fhqfAN"
      },
      "execution_count": null,
      "outputs": []
    },
    {
      "cell_type": "markdown",
      "source": [
        "#Question 2"
      ],
      "metadata": {
        "id": "J712UEfpqT6x"
      }
    },
    {
      "cell_type": "markdown",
      "source": [
        "##a)"
      ],
      "metadata": {
        "id": "i7c2kaGXqV0x"
      }
    },
    {
      "cell_type": "code",
      "source": [],
      "metadata": {
        "id": "CoCNQIzoqgu2"
      },
      "execution_count": null,
      "outputs": []
    },
    {
      "cell_type": "markdown",
      "source": [
        "##b)"
      ],
      "metadata": {
        "id": "z_S1Nsx8qYRA"
      }
    },
    {
      "cell_type": "code",
      "source": [],
      "metadata": {
        "id": "A0sZANKnqhvS"
      },
      "execution_count": null,
      "outputs": []
    },
    {
      "cell_type": "markdown",
      "source": [
        "#Question 3"
      ],
      "metadata": {
        "id": "vDgam7UXqixp"
      }
    },
    {
      "cell_type": "markdown",
      "source": [
        "##a)"
      ],
      "metadata": {
        "id": "tGsMKlDOqoFX"
      }
    },
    {
      "cell_type": "code",
      "source": [],
      "metadata": {
        "id": "D8D0Xrnvqwfm"
      },
      "execution_count": null,
      "outputs": []
    },
    {
      "cell_type": "markdown",
      "source": [
        "##b)"
      ],
      "metadata": {
        "id": "t8-HKp_Wqq9N"
      }
    },
    {
      "cell_type": "code",
      "source": [],
      "metadata": {
        "id": "mTkw7DHhqxOt"
      },
      "execution_count": null,
      "outputs": []
    },
    {
      "cell_type": "markdown",
      "source": [
        "#Question 4"
      ],
      "metadata": {
        "id": "UNQFCjwvqlB6"
      }
    },
    {
      "cell_type": "markdown",
      "source": [
        "##a)"
      ],
      "metadata": {
        "id": "Q0F9NwJLquUA"
      }
    },
    {
      "cell_type": "code",
      "source": [],
      "metadata": {
        "id": "zHOvLSmjqkPl"
      },
      "execution_count": null,
      "outputs": []
    }
  ]
}